{
 "cells": [
  {
   "cell_type": "code",
   "execution_count": 1,
   "metadata": {},
   "outputs": [],
   "source": [
    "import pandas as pd\n",
    "import numpy as np\n",
    "import matplotlib.pyplot as plt\n",
    "import seaborn as sns\n"
   ]
  },
  {
   "cell_type": "markdown",
   "metadata": {},
   "source": [
    "Data exploration\n"
   ]
  },
  {
   "cell_type": "code",
   "execution_count": 7,
   "metadata": {},
   "outputs": [],
   "source": [
    "df = pd.read_csv('modified_ref_meds.csv')"
   ]
  },
  {
   "cell_type": "code",
   "execution_count": 8,
   "metadata": {},
   "outputs": [
    {
     "data": {
      "text/html": [
       "<div>\n",
       "<style scoped>\n",
       "    .dataframe tbody tr th:only-of-type {\n",
       "        vertical-align: middle;\n",
       "    }\n",
       "\n",
       "    .dataframe tbody tr th {\n",
       "        vertical-align: top;\n",
       "    }\n",
       "\n",
       "    .dataframe thead th {\n",
       "        text-align: right;\n",
       "    }\n",
       "</style>\n",
       "<table border=\"1\" class=\"dataframe\">\n",
       "  <thead>\n",
       "    <tr style=\"text-align: right;\">\n",
       "      <th></th>\n",
       "      <th>CODE</th>\n",
       "      <th>NOM</th>\n",
       "      <th>DCI1</th>\n",
       "      <th>DOSAGE1</th>\n",
       "      <th>UNITE_DOSAGE1</th>\n",
       "      <th>FORME</th>\n",
       "      <th>PRESENTATION</th>\n",
       "      <th>PPV</th>\n",
       "      <th>PH</th>\n",
       "      <th>PRIX_BR</th>\n",
       "      <th>PRINCEPS_GENERIQUE</th>\n",
       "      <th>TAUX_REMBOURSEMENT</th>\n",
       "    </tr>\n",
       "  </thead>\n",
       "  <tbody>\n",
       "    <tr>\n",
       "      <th>4684</th>\n",
       "      <td>6118000220237</td>\n",
       "      <td>CURAM</td>\n",
       "      <td>AMOXICILLINE / ACIDE CLAVULANIQUE</td>\n",
       "      <td>250 / 62.5</td>\n",
       "      <td>MG / MG</td>\n",
       "      <td>POUDRE POUR SUSPENSION BUVABLE</td>\n",
       "      <td>1 FLACON 60 ML</td>\n",
       "      <td>84.90  ¬</td>\n",
       "      <td>52.90  ¬</td>\n",
       "      <td>84.90  ¬</td>\n",
       "      <td>G</td>\n",
       "      <td>70%</td>\n",
       "    </tr>\n",
       "    <tr>\n",
       "      <th>4703</th>\n",
       "      <td>6118010117862</td>\n",
       "      <td>KETALGIC LP 200 MG</td>\n",
       "      <td>KETOPROFENE</td>\n",
       "      <td>200</td>\n",
       "      <td>MG</td>\n",
       "      <td>GELULE LP</td>\n",
       "      <td>1 BOITE 14 GELULE</td>\n",
       "      <td>71.00  ¬</td>\n",
       "      <td>44.20  ¬</td>\n",
       "      <td>71.00  ¬</td>\n",
       "      <td>G</td>\n",
       "      <td>70%</td>\n",
       "    </tr>\n",
       "    <tr>\n",
       "      <th>2245</th>\n",
       "      <td>6118000120247</td>\n",
       "      <td>STATICOL</td>\n",
       "      <td>SIMVASTATINE</td>\n",
       "      <td>20</td>\n",
       "      <td>MG</td>\n",
       "      <td>COMPRIME ENROBE SECABLE</td>\n",
       "      <td>1 BOITE 28 COMPRIME</td>\n",
       "      <td>100.00  ¬</td>\n",
       "      <td>62.50  ¬</td>\n",
       "      <td>100.00  ¬</td>\n",
       "      <td>G</td>\n",
       "      <td>70%</td>\n",
       "    </tr>\n",
       "    <tr>\n",
       "      <th>5533</th>\n",
       "      <td>6118001170616</td>\n",
       "      <td>CHAMPIX</td>\n",
       "      <td>VARENICLINE</td>\n",
       "      <td>1</td>\n",
       "      <td>MG</td>\n",
       "      <td>COMPRIME PELLICULE</td>\n",
       "      <td>1 BOITE 56 COMPRIME</td>\n",
       "      <td>800.00  ¬</td>\n",
       "      <td>529.20  ¬</td>\n",
       "      <td>800.00  ¬</td>\n",
       "      <td>P</td>\n",
       "      <td>0%</td>\n",
       "    </tr>\n",
       "  </tbody>\n",
       "</table>\n",
       "</div>"
      ],
      "text/plain": [
       "               CODE                 NOM                               DCI1  \\\n",
       "4684  6118000220237               CURAM  AMOXICILLINE / ACIDE CLAVULANIQUE   \n",
       "4703  6118010117862  KETALGIC LP 200 MG                        KETOPROFENE   \n",
       "2245  6118000120247            STATICOL                       SIMVASTATINE   \n",
       "5533  6118001170616             CHAMPIX                        VARENICLINE   \n",
       "\n",
       "         DOSAGE1 UNITE_DOSAGE1                           FORME  \\\n",
       "4684  250 / 62.5       MG / MG  POUDRE POUR SUSPENSION BUVABLE   \n",
       "4703         200            MG                       GELULE LP   \n",
       "2245          20            MG         COMPRIME ENROBE SECABLE   \n",
       "5533           1            MG              COMPRIME PELLICULE   \n",
       "\n",
       "             PRESENTATION            PPV             PH        PRIX_BR  \\\n",
       "4684       1 FLACON 60 ML     84.90  ¬      52.90  ¬      84.90  ¬    \n",
       "4703    1 BOITE 14 GELULE     71.00  ¬      44.20  ¬      71.00  ¬    \n",
       "2245  1 BOITE 28 COMPRIME    100.00  ¬      62.50  ¬     100.00  ¬    \n",
       "5533  1 BOITE 56 COMPRIME    800.00  ¬     529.20  ¬     800.00  ¬    \n",
       "\n",
       "     PRINCEPS_GENERIQUE TAUX_REMBOURSEMENT  \n",
       "4684                  G                70%  \n",
       "4703                  G                70%  \n",
       "2245                  G                70%  \n",
       "5533                  P                 0%  "
      ]
     },
     "execution_count": 8,
     "metadata": {},
     "output_type": "execute_result"
    }
   ],
   "source": [
    "df.sample(4)"
   ]
  },
  {
   "cell_type": "code",
   "execution_count": 6,
   "metadata": {},
   "outputs": [],
   "source": []
  }
 ],
 "metadata": {
  "kernelspec": {
   "display_name": "Python 3",
   "language": "python",
   "name": "python3"
  },
  "language_info": {
   "codemirror_mode": {
    "name": "ipython",
    "version": 3
   },
   "file_extension": ".py",
   "mimetype": "text/x-python",
   "name": "python",
   "nbconvert_exporter": "python",
   "pygments_lexer": "ipython3",
   "version": "3.11.4"
  }
 },
 "nbformat": 4,
 "nbformat_minor": 2
}
